{
 "cells": [
  {
   "cell_type": "markdown",
   "id": "b3ae6554",
   "metadata": {},
   "source": [
    "## Description "
   ]
  },
  {
   "cell_type": "markdown",
   "id": "ddd64bb6",
   "metadata": {},
   "source": [
    "We have an A/B test in our network from 13-06-2022 to 19-06-2022. \n",
    "\n",
    "The 1st group was the control. In group #2 (test group) was used a new algorithm of post-recommendation. \n",
    "\n",
    "The main hypothesis is that the new algorithm will lead to an increase in CTR.\n"
   ]
  },
  {
   "cell_type": "markdown",
   "id": "9f826ffb",
   "metadata": {},
   "source": [
    "# Contents\n",
    "\n",
    "* [Connection](#conn)\n",
    "* [Checking A/A test](#aa)\n",
    "* [Analyze A/B test](#ab)\n",
    "    * [T-test](#ttest)\n",
    "* [Comparing results of statistical tests](#compare)\n",
    "    * [Mann-Whitney](#mann)\n",
    "    * [Smoothed CTR](#smoothed)\n",
    "    * [Poisson bootstrap](#bootstrap)\n",
    "    * [Bucket testing](#bucket)\n",
    "    * [Linearization](#lin)\n",
    "* [Conclusion](#conc)"
   ]
  },
  {
   "cell_type": "markdown",
   "id": "33593543",
   "metadata": {},
   "source": [
    "<a id = 'conn'></a>\n",
    "## Connection"
   ]
  },
  {
   "cell_type": "markdown",
   "id": "78f8cc87",
   "metadata": {},
   "source": [
    "We created a special file with configuration information (host, database, and so on). With a help of the library <code>configparser</code>, were read necessary parameters."
   ]
  },
  {
   "cell_type": "code",
   "execution_count": 1,
   "id": "2c016f50",
   "metadata": {},
   "outputs": [],
   "source": [
    "import configparser\n",
    "\n",
    "import pandas as pd\n",
    "import pandahouse as ph\n",
    "\n",
    "import seaborn as sns\n",
    "import matplotlib.pyplot as plt\n",
    "%matplotlib inline\n",
    "\n",
    "from scipy import stats\n",
    "import numpy as np"
   ]
  },
  {
   "cell_type": "code",
   "execution_count": 2,
   "id": "13604166",
   "metadata": {},
   "outputs": [],
   "source": [
    "# import and parse configs data for connection to database\n",
    "config = configparser.ConfigParser()\n",
    "config.read('configs.ini')\n",
    "\n",
    "connection = {\n",
    "    'host': config['db']['host'],\n",
    "    'database': config['db']['database'],\n",
    "    'user': config['db']['user'],\n",
    "    'password': config['db']['password']\n",
    "}"
   ]
  },
  {
   "cell_type": "code",
   "execution_count": 3,
   "id": "c525f100",
   "metadata": {},
   "outputs": [],
   "source": [
    "def run_query(query, connection = connection):\n",
    "    df = ph.read_clickhouse(query, connection=connection)\n",
    "    return df"
   ]
  },
  {
   "cell_type": "markdown",
   "id": "de5f51e9",
   "metadata": {},
   "source": [
    "<a id = 'aa'> </a>\n",
    "## Checking A/A test"
   ]
  },
  {
   "cell_type": "markdown",
   "id": "a94b3f7d",
   "metadata": {},
   "source": [
    "We need to start our analysis by making sure that our system splitting works correctly and that our crucial metric isn't different neither at our test in groups 0 and 1 nor in general.\n",
    "\n",
    "In the best case, it will be good to spend an infinite amount of AA tests and see in how many cases will we deny the null hypothesis.\n",
    "\n",
    "If the splitting system works correctly, then statistically significant differences between the two groups will be in the random false results. For example, if we accept the null hypothesis with the condition of p-value less than 0,05, then around 5% of cases will have statistically significant differences between the two groups.\n",
    "\n",
    "We have data from the AA-test. We need to simulate 10 000 AA-tests with samples of 500 users and then we need to compare this data with t-tests."
   ]
  },
  {
   "cell_type": "code",
   "execution_count": 4,
   "id": "976edc28",
   "metadata": {},
   "outputs": [],
   "source": [
    "query_aa_test = \"\"\"\n",
    "SELECT user_id,\n",
    "        countIf(action='like') as likes,\n",
    "        countIf(action='view') as views,\n",
    "        likes/views as ctr,\n",
    "        exp_group\n",
    "FROM {db}.feed_actions \n",
    "WHERE toDate(time) >= '2022-06-06' and toDate(time) <= '2022-06-12' \n",
    "GROUP BY user_id, exp_group\n",
    "\"\"\""
   ]
  },
  {
   "cell_type": "code",
   "execution_count": 5,
   "id": "e9c821de",
   "metadata": {},
   "outputs": [
    {
     "data": {
      "text/html": [
       "<div>\n",
       "<style scoped>\n",
       "    .dataframe tbody tr th:only-of-type {\n",
       "        vertical-align: middle;\n",
       "    }\n",
       "\n",
       "    .dataframe tbody tr th {\n",
       "        vertical-align: top;\n",
       "    }\n",
       "\n",
       "    .dataframe thead th {\n",
       "        text-align: right;\n",
       "    }\n",
       "</style>\n",
       "<table border=\"1\" class=\"dataframe\">\n",
       "  <thead>\n",
       "    <tr style=\"text-align: right;\">\n",
       "      <th></th>\n",
       "      <th>user_id</th>\n",
       "      <th>likes</th>\n",
       "      <th>views</th>\n",
       "      <th>ctr</th>\n",
       "      <th>exp_group</th>\n",
       "    </tr>\n",
       "  </thead>\n",
       "  <tbody>\n",
       "    <tr>\n",
       "      <th>0</th>\n",
       "      <td>115383</td>\n",
       "      <td>11</td>\n",
       "      <td>36</td>\n",
       "      <td>0.305556</td>\n",
       "      <td>3</td>\n",
       "    </tr>\n",
       "    <tr>\n",
       "      <th>1</th>\n",
       "      <td>18392</td>\n",
       "      <td>8</td>\n",
       "      <td>39</td>\n",
       "      <td>0.205128</td>\n",
       "      <td>1</td>\n",
       "    </tr>\n",
       "    <tr>\n",
       "      <th>2</th>\n",
       "      <td>123580</td>\n",
       "      <td>15</td>\n",
       "      <td>92</td>\n",
       "      <td>0.163043</td>\n",
       "      <td>3</td>\n",
       "    </tr>\n",
       "    <tr>\n",
       "      <th>3</th>\n",
       "      <td>131473</td>\n",
       "      <td>26</td>\n",
       "      <td>148</td>\n",
       "      <td>0.175676</td>\n",
       "      <td>2</td>\n",
       "    </tr>\n",
       "    <tr>\n",
       "      <th>4</th>\n",
       "      <td>107323</td>\n",
       "      <td>5</td>\n",
       "      <td>26</td>\n",
       "      <td>0.192308</td>\n",
       "      <td>4</td>\n",
       "    </tr>\n",
       "    <tr>\n",
       "      <th>...</th>\n",
       "      <td>...</td>\n",
       "      <td>...</td>\n",
       "      <td>...</td>\n",
       "      <td>...</td>\n",
       "      <td>...</td>\n",
       "    </tr>\n",
       "    <tr>\n",
       "      <th>42580</th>\n",
       "      <td>122758</td>\n",
       "      <td>37</td>\n",
       "      <td>212</td>\n",
       "      <td>0.174528</td>\n",
       "      <td>3</td>\n",
       "    </tr>\n",
       "    <tr>\n",
       "      <th>42581</th>\n",
       "      <td>132567</td>\n",
       "      <td>15</td>\n",
       "      <td>81</td>\n",
       "      <td>0.185185</td>\n",
       "      <td>1</td>\n",
       "    </tr>\n",
       "    <tr>\n",
       "      <th>42582</th>\n",
       "      <td>122190</td>\n",
       "      <td>25</td>\n",
       "      <td>74</td>\n",
       "      <td>0.337838</td>\n",
       "      <td>3</td>\n",
       "    </tr>\n",
       "    <tr>\n",
       "      <th>42583</th>\n",
       "      <td>108927</td>\n",
       "      <td>8</td>\n",
       "      <td>33</td>\n",
       "      <td>0.242424</td>\n",
       "      <td>2</td>\n",
       "    </tr>\n",
       "    <tr>\n",
       "      <th>42584</th>\n",
       "      <td>17310</td>\n",
       "      <td>2</td>\n",
       "      <td>14</td>\n",
       "      <td>0.142857</td>\n",
       "      <td>2</td>\n",
       "    </tr>\n",
       "  </tbody>\n",
       "</table>\n",
       "<p>42585 rows × 5 columns</p>\n",
       "</div>"
      ],
      "text/plain": [
       "       user_id  likes  views       ctr  exp_group\n",
       "0       115383     11     36  0.305556          3\n",
       "1        18392      8     39  0.205128          1\n",
       "2       123580     15     92  0.163043          3\n",
       "3       131473     26    148  0.175676          2\n",
       "4       107323      5     26  0.192308          4\n",
       "...        ...    ...    ...       ...        ...\n",
       "42580   122758     37    212  0.174528          3\n",
       "42581   132567     15     81  0.185185          1\n",
       "42582   122190     25     74  0.337838          3\n",
       "42583   108927      8     33  0.242424          2\n",
       "42584    17310      2     14  0.142857          2\n",
       "\n",
       "[42585 rows x 5 columns]"
      ]
     },
     "execution_count": 5,
     "metadata": {},
     "output_type": "execute_result"
    }
   ],
   "source": [
    "aa_test = run_query(query_aa_test)\n",
    "aa_test"
   ]
  },
  {
   "cell_type": "code",
   "execution_count": 6,
   "id": "dc43d525",
   "metadata": {},
   "outputs": [
    {
     "data": {
      "text/plain": [
       "exp_group\n",
       "0    8484\n",
       "1    8537\n",
       "2    8480\n",
       "3    8569\n",
       "4    8515\n",
       "Name: user_id, dtype: int64"
      ]
     },
     "execution_count": 6,
     "metadata": {},
     "output_type": "execute_result"
    }
   ],
   "source": [
    "aa_test.groupby('exp_group').user_id.count()"
   ]
  },
  {
   "cell_type": "markdown",
   "id": "03d76430",
   "metadata": {},
   "source": [
    "We see that our groups are divided into almost equal parts. Differences are around 1%."
   ]
  },
  {
   "cell_type": "code",
   "execution_count": 7,
   "id": "3139f453",
   "metadata": {},
   "outputs": [
    {
     "data": {
      "image/png": "[encoded data removed]",
      "text/plain": [
       "<Figure size 432x288 with 1 Axes>"
      ]
     },
     "metadata": {
      "needs_background": "light"
     },
     "output_type": "display_data"
    }
   ],
   "source": [
    "sns.histplot(\n",
    "            data = aa_test[aa_test['exp_group'].isin([2,3])],\n",
    "             x ='ctr',\n",
    "             hue = 'exp_group',\n",
    "            palette=['r','b'],\n",
    "            alpha=0.5)\n",
    "plt.title(\"Distribution of users' ctr\");"
   ]
  },
  {
   "cell_type": "code",
   "execution_count": 8,
   "id": "0a95fa56",
   "metadata": {},
   "outputs": [],
   "source": [
    "res = []\n",
    "for i in range(10000):\n",
    "    a1 = aa_test[aa_test['exp_group'] == 2].sample(500, replace=True)\n",
    "    a2 = aa_test[aa_test['exp_group'] == 3].sample(500, replace=True)\n",
    "    res.append(\n",
    "            stats.ttest_ind(a1.ctr, a2.ctr, equal_var= False)[1])\n"
   ]
  },
  {
   "cell_type": "code",
   "execution_count": 9,
   "id": "1856760b",
   "metadata": {},
   "outputs": [
    {
     "data": {
      "image/png": "[encoded data removed]",
      "text/plain": [
       "<Figure size 432x288 with 1 Axes>"
      ]
     },
     "metadata": {
      "needs_background": "light"
     },
     "output_type": "display_data"
    }
   ],
   "source": [
    "sns.histplot(data=res)\n",
    "plt.title('Results of 10000 ttest')\n",
    "plt.xlabel('p-value');  "
   ]
  },
  {
   "cell_type": "code",
   "execution_count": 10,
   "id": "45f58725",
   "metadata": {},
   "outputs": [
    {
     "data": {
      "text/plain": [
       "5.4"
      ]
     },
     "execution_count": 10,
     "metadata": {},
     "output_type": "execute_result"
    }
   ],
   "source": [
    "result = pd.Series(res)\n",
    "result[result<=0.05].count() / len(result) * 100"
   ]
  },
  {
   "cell_type": "markdown",
   "id": "12f2aa89",
   "metadata": {},
   "source": [
    "Among 10 000 tests, around 5% of cases were reasons for denying the null hypothesis about the equality of an average CTR. Consequently, we can consider our system of splitting worked correctly."
   ]
  },
  {
   "cell_type": "markdown",
   "id": "448922cc",
   "metadata": {},
   "source": [
    "<a id = 'ab'> </a>\n",
    "## Analyze A/B test"
   ]
  },
  {
   "cell_type": "markdown",
   "id": "a9606ee8",
   "metadata": {},
   "source": [
    "Let's start our A/B test analysis."
   ]
  },
  {
   "cell_type": "code",
   "execution_count": 11,
   "id": "8c347667",
   "metadata": {},
   "outputs": [],
   "source": [
    "query_ab_test = \"\"\"\n",
    "SELECT user_id,\n",
    "        countIf(action='like') as likes,\n",
    "        countIf(action='view') as views,\n",
    "        likes/views as ctr,\n",
    "        exp_group\n",
    "FROM {db}.feed_actions \n",
    "WHERE toDate(time) >= '2022-06-13' and toDate(time) <= '2022-06-19'  and exp_group in (2,1)\n",
    "GROUP BY user_id, exp_group\n",
    "\"\"\""
   ]
  },
  {
   "cell_type": "code",
   "execution_count": 12,
   "id": "6611811d",
   "metadata": {},
   "outputs": [
    {
     "data": {
      "text/html": [
       "<div>\n",
       "<style scoped>\n",
       "    .dataframe tbody tr th:only-of-type {\n",
       "        vertical-align: middle;\n",
       "    }\n",
       "\n",
       "    .dataframe tbody tr th {\n",
       "        vertical-align: top;\n",
       "    }\n",
       "\n",
       "    .dataframe thead th {\n",
       "        text-align: right;\n",
       "    }\n",
       "</style>\n",
       "<table border=\"1\" class=\"dataframe\">\n",
       "  <thead>\n",
       "    <tr style=\"text-align: right;\">\n",
       "      <th></th>\n",
       "      <th>user_id</th>\n",
       "      <th>likes</th>\n",
       "      <th>views</th>\n",
       "      <th>ctr</th>\n",
       "      <th>exp_group</th>\n",
       "    </tr>\n",
       "  </thead>\n",
       "  <tbody>\n",
       "    <tr>\n",
       "      <th>0</th>\n",
       "      <td>109963</td>\n",
       "      <td>3</td>\n",
       "      <td>15</td>\n",
       "      <td>0.200000</td>\n",
       "      <td>1</td>\n",
       "    </tr>\n",
       "    <tr>\n",
       "      <th>1</th>\n",
       "      <td>26117</td>\n",
       "      <td>32</td>\n",
       "      <td>141</td>\n",
       "      <td>0.226950</td>\n",
       "      <td>1</td>\n",
       "    </tr>\n",
       "    <tr>\n",
       "      <th>2</th>\n",
       "      <td>138232</td>\n",
       "      <td>18</td>\n",
       "      <td>73</td>\n",
       "      <td>0.246575</td>\n",
       "      <td>1</td>\n",
       "    </tr>\n",
       "    <tr>\n",
       "      <th>3</th>\n",
       "      <td>26295</td>\n",
       "      <td>33</td>\n",
       "      <td>122</td>\n",
       "      <td>0.270492</td>\n",
       "      <td>1</td>\n",
       "    </tr>\n",
       "    <tr>\n",
       "      <th>4</th>\n",
       "      <td>18392</td>\n",
       "      <td>7</td>\n",
       "      <td>32</td>\n",
       "      <td>0.218750</td>\n",
       "      <td>1</td>\n",
       "    </tr>\n",
       "    <tr>\n",
       "      <th>...</th>\n",
       "      <td>...</td>\n",
       "      <td>...</td>\n",
       "      <td>...</td>\n",
       "      <td>...</td>\n",
       "      <td>...</td>\n",
       "    </tr>\n",
       "    <tr>\n",
       "      <th>20026</th>\n",
       "      <td>132567</td>\n",
       "      <td>45</td>\n",
       "      <td>296</td>\n",
       "      <td>0.152027</td>\n",
       "      <td>1</td>\n",
       "    </tr>\n",
       "    <tr>\n",
       "      <th>20027</th>\n",
       "      <td>30872</td>\n",
       "      <td>11</td>\n",
       "      <td>59</td>\n",
       "      <td>0.186441</td>\n",
       "      <td>1</td>\n",
       "    </tr>\n",
       "    <tr>\n",
       "      <th>20028</th>\n",
       "      <td>25383</td>\n",
       "      <td>42</td>\n",
       "      <td>127</td>\n",
       "      <td>0.330709</td>\n",
       "      <td>2</td>\n",
       "    </tr>\n",
       "    <tr>\n",
       "      <th>20029</th>\n",
       "      <td>139020</td>\n",
       "      <td>24</td>\n",
       "      <td>114</td>\n",
       "      <td>0.210526</td>\n",
       "      <td>2</td>\n",
       "    </tr>\n",
       "    <tr>\n",
       "      <th>20030</th>\n",
       "      <td>17310</td>\n",
       "      <td>9</td>\n",
       "      <td>82</td>\n",
       "      <td>0.109756</td>\n",
       "      <td>2</td>\n",
       "    </tr>\n",
       "  </tbody>\n",
       "</table>\n",
       "<p>20031 rows × 5 columns</p>\n",
       "</div>"
      ],
      "text/plain": [
       "       user_id  likes  views       ctr  exp_group\n",
       "0       109963      3     15  0.200000          1\n",
       "1        26117     32    141  0.226950          1\n",
       "2       138232     18     73  0.246575          1\n",
       "3        26295     33    122  0.270492          1\n",
       "4        18392      7     32  0.218750          1\n",
       "...        ...    ...    ...       ...        ...\n",
       "20026   132567     45    296  0.152027          1\n",
       "20027    30872     11     59  0.186441          1\n",
       "20028    25383     42    127  0.330709          2\n",
       "20029   139020     24    114  0.210526          2\n",
       "20030    17310      9     82  0.109756          2\n",
       "\n",
       "[20031 rows x 5 columns]"
      ]
     },
     "execution_count": 12,
     "metadata": {},
     "output_type": "execute_result"
    }
   ],
   "source": [
    "ab_test = run_query(query_ab_test, connection)\n",
    "ab_test"
   ]
  },
  {
   "cell_type": "code",
   "execution_count": 13,
   "id": "3caa8cb9",
   "metadata": {},
   "outputs": [],
   "source": [
    "ab_test.to_csv('ab_test')"
   ]
  },
  {
   "cell_type": "markdown",
   "id": "303a5784",
   "metadata": {},
   "source": [
    "<a id = 'ttest'> </a>\n",
    "### T-test"
   ]
  },
  {
   "cell_type": "markdown",
   "id": "d92dc8b3",
   "metadata": {},
   "source": [
    "H0: Average CTRs will be equal in the two groups.\n",
    "    \n",
    "H1: New algorithm will increase CTR in the second group. The average meaning in the test group will be greater.\n",
    "    "
   ]
  },
  {
   "cell_type": "code",
   "execution_count": 14,
   "id": "1cd92d83",
   "metadata": {},
   "outputs": [],
   "source": [
    "a = ab_test[ab_test['exp_group'] == 1]['ctr']\n",
    "b = ab_test[ab_test['exp_group'] == 2]['ctr']"
   ]
  },
  {
   "cell_type": "code",
   "execution_count": 15,
   "id": "5351b2d7",
   "metadata": {},
   "outputs": [
    {
     "data": {
      "text/plain": [
       "(0.21560459841296287, 0.21441927347479375)"
      ]
     },
     "execution_count": 15,
     "metadata": {},
     "output_type": "execute_result"
    }
   ],
   "source": [
    "a.mean(), b.mean()"
   ]
  },
  {
   "cell_type": "markdown",
   "id": "91154ec8",
   "metadata": {},
   "source": [
    "As we can see the meanings are almost similar."
   ]
  },
  {
   "cell_type": "code",
   "execution_count": 16,
   "id": "6848582f",
   "metadata": {},
   "outputs": [],
   "source": [
    "def conclusion_of_the_test(pvalue, alpha = 0.05):\n",
    "    if pvalue > alpha:\n",
    "        print('No reasons for denying the null hypothesis')\n",
    "    else:\n",
    "        print('We have reasons for denying the null hypothesis' )\n",
    "    print('p-value:', pvalue)"
   ]
  },
  {
   "cell_type": "code",
   "execution_count": 17,
   "id": "0ace40b6",
   "metadata": {},
   "outputs": [
    {
     "name": "stdout",
     "output_type": "stream",
     "text": [
      "No reasons for denying the null hypothesis\n",
      "p-value: 0.7609688434562533\n"
     ]
    }
   ],
   "source": [
    "res = stats.ttest_ind(a, b, equal_var= False, alternative = 'less')\n",
    "conclusion_of_the_test(res[1])"
   ]
  },
  {
   "cell_type": "markdown",
   "id": "b5411110",
   "metadata": {},
   "source": [
    "In the first view, we don't have reasons for denying the null hypothesis. Let's look at different tests and visualizations"
   ]
  },
  {
   "cell_type": "markdown",
   "id": "b9c18fe1",
   "metadata": {},
   "source": [
    "<a id='compare'></a>\n",
    "## Comparing results of statistical tests"
   ]
  },
  {
   "cell_type": "markdown",
   "id": "323f192c",
   "metadata": {},
   "source": [
    "In this study case, we won't consider the problem of multiply comparing."
   ]
  },
  {
   "cell_type": "markdown",
   "id": "6a8453bd",
   "metadata": {},
   "source": [
    "###  Visualization of distribution"
   ]
  },
  {
   "cell_type": "code",
   "execution_count": 18,
   "id": "a33e1805",
   "metadata": {},
   "outputs": [
    {
     "data": {
      "image/png": "[encoded data removed]",
      "text/plain": [
       "<Figure size 432x288 with 1 Axes>"
      ]
     },
     "metadata": {
      "needs_background": "light"
     },
     "output_type": "display_data"
    }
   ],
   "source": [
    "sns.histplot(\n",
    "    data = ab_test,\n",
    "    x = 'ctr',\n",
    "    hue = 'exp_group',\n",
    "    palette = ['r','g'],\n",
    "    alpha = 0.5\n",
    ")\n",
    "plt.title('Distribution of ctr in test groups');\n",
    "    "
   ]
  },
  {
   "cell_type": "markdown",
   "id": "a05cd99b",
   "metadata": {},
   "source": [
    "Judging by the image of distribution, differences between test and control groups are present. But it isn't that simple, as we wished. Part of the users increased their CTR and part decreased."
   ]
  },
  {
   "cell_type": "markdown",
   "id": "ffb69f44",
   "metadata": {},
   "source": [
    "<a id = 'mann'></a>\n",
    "### Mann–Whitney test"
   ]
  },
  {
   "cell_type": "code",
   "execution_count": 19,
   "id": "9feb556f",
   "metadata": {},
   "outputs": [
    {
     "name": "stdout",
     "output_type": "stream",
     "text": [
      "We have reasons for denying the null hypothesis\n",
      "p-value: 6.0376484617779035e-56\n"
     ]
    }
   ],
   "source": [
    "res_mann = stats.mannwhitneyu(a,b)\n",
    "conclusion_of_the_test(res_mann[1])"
   ]
  },
  {
   "cell_type": "markdown",
   "id": "3b54547c",
   "metadata": {},
   "source": [
    "Mann-Whitney test managed to notice the differences. "
   ]
  },
  {
   "cell_type": "markdown",
   "id": "85c2abda",
   "metadata": {},
   "source": [
    "<a id = 'smoothed'></a>\n",
    "### Smoothed CTR"
   ]
  },
  {
   "cell_type": "markdown",
   "id": "36cef20e",
   "metadata": {},
   "source": [
    "We know almost nothing about the CTR of users, who have only several views, independently from the number of clicks.\n",
    "\n",
    "Get \"smoothed\" our CTR rate (the procedure name is Laplace smoothing)."
   ]
  },
  {
   "cell_type": "markdown",
   "id": "65009cf3",
   "metadata": {},
   "source": [
    "$$smoothed_{u}CTR = \\frac{clicks_{u} + \\alpha * globalCTR}{views_{u}+\\alpha}$$\n",
    "\n",
    "where α — hyperparameter"
   ]
  },
  {
   "cell_type": "markdown",
   "id": "26b3e6de",
   "metadata": {},
   "source": [
    "The main idea: when we have a big number of views, smoothed CTR is almost equal to user CTR. When views are little, smoothed CTR is almost equal to group-wide CTR.\n",
    "\n",
    "BUT! We don't have a theoretical guarantee, that the orientation of the smoothed CTR will match with the orientation of the main number of clicks."
   ]
  },
  {
   "cell_type": "code",
   "execution_count": 20,
   "id": "262ed5f0",
   "metadata": {},
   "outputs": [],
   "source": [
    "def get_smothed_ctr(user_likes, user_views, global_ctr, alpha):\n",
    "    smothed_ctr = (user_likes + alpha * global_ctr) / (user_views + alpha)\n",
    "    return smothed_ctr"
   ]
  },
  {
   "cell_type": "code",
   "execution_count": 21,
   "id": "a5374b84",
   "metadata": {},
   "outputs": [],
   "source": [
    "group_ctr_1 = ab_test[ab_test['exp_group'] == 1].likes.sum() / ab_test[ab_test['exp_group'] == 1].views.sum()\n",
    "group_ctr_2 = ab_test[ab_test['exp_group'] == 2].likes.sum() / ab_test[ab_test['exp_group'] == 2].views.sum()"
   ]
  },
  {
   "cell_type": "code",
   "execution_count": 22,
   "id": "a347257d",
   "metadata": {},
   "outputs": [],
   "source": [
    "group_1_copy = ab_test[ab_test['exp_group']==1].copy()"
   ]
  },
  {
   "cell_type": "code",
   "execution_count": 23,
   "id": "f17a0841",
   "metadata": {},
   "outputs": [],
   "source": [
    "group_1_copy['smothed_ctr'] = ab_test.apply(\n",
    "    lambda x: get_smothed_ctr(x['likes'], x['views'], group_ctr_1, 5), axis=1)"
   ]
  },
  {
   "cell_type": "code",
   "execution_count": 24,
   "id": "dfd39a53",
   "metadata": {},
   "outputs": [
    {
     "data": {
      "image/png": "[encoded data removed]",
      "text/plain": [
       "<Figure size 360x360 with 1 Axes>"
      ]
     },
     "metadata": {
      "needs_background": "light"
     },
     "output_type": "display_data"
    },
    {
     "data": {
      "image/png": "[encoded data removed]",
      "text/plain": [
       "<Figure size 360x360 with 1 Axes>"
      ]
     },
     "metadata": {
      "needs_background": "light"
     },
     "output_type": "display_data"
    }
   ],
   "source": [
    "sns.displot(group_1_copy.ctr,kde=False);\n",
    "plt.title('Distibution of CTR before change in control group');\n",
    "sns.displot(group_1_copy.smothed_ctr,kde=False);\n",
    "plt.title('Distibution of smothed CTR in control group');"
   ]
  },
  {
   "cell_type": "code",
   "execution_count": 25,
   "id": "39f60172",
   "metadata": {},
   "outputs": [
    {
     "data": {
      "image/png": "[encoded data removed]",
      "text/plain": [
       "<Figure size 360x360 with 1 Axes>"
      ]
     },
     "metadata": {
      "needs_background": "light"
     },
     "output_type": "display_data"
    },
    {
     "data": {
      "image/png": "[encoded data removed]",
      "text/plain": [
       "<Figure size 360x360 with 1 Axes>"
      ]
     },
     "metadata": {
      "needs_background": "light"
     },
     "output_type": "display_data"
    }
   ],
   "source": [
    "group_2_copy = ab_test[ab_test['exp_group']== 2].copy()\n",
    "group_2_copy['smothed_ctr'] = ab_test.apply(\n",
    "    lambda x: get_smothed_ctr(x['likes'], x['views'], group_ctr_1, 5), axis=1)\n",
    "\n",
    "sns.displot(group_2_copy.ctr,kde=False);\n",
    "plt.title('Distibution of CTR before change in test group');\n",
    "\n",
    "sns.displot(group_2_copy.smothed_ctr,kde=False);\n",
    "plt.title('Distibution of smothed CTR in test group');"
   ]
  },
  {
   "cell_type": "markdown",
   "id": "555f9971",
   "metadata": {},
   "source": [
    "H0: Average values of smoothed CTR are equal in both groups.\n",
    "\n",
    "H1: Average values of smoothed CTR are different in both groups.\n"
   ]
  },
  {
   "cell_type": "code",
   "execution_count": 26,
   "id": "d73d6f3e",
   "metadata": {},
   "outputs": [
    {
     "data": {
      "text/plain": [
       "(0.21181083533531964, 0.21402549608884142)"
      ]
     },
     "execution_count": 26,
     "metadata": {},
     "output_type": "execute_result"
    }
   ],
   "source": [
    "group_2_copy['smothed_ctr'].mean(), group_1_copy['smothed_ctr'].mean()"
   ]
  },
  {
   "cell_type": "code",
   "execution_count": 27,
   "id": "76dffe8d",
   "metadata": {},
   "outputs": [
    {
     "name": "stdout",
     "output_type": "stream",
     "text": [
      "No reasons for denying the null hypothesis\n",
      "p-value: 0.12398006885092346\n"
     ]
    }
   ],
   "source": [
    "res = stats.ttest_ind(group_2_copy['smothed_ctr'], \n",
    "                        group_1_copy['smothed_ctr'], \n",
    "                        equal_var=False)\n",
    "conclusion_of_the_test(res[1])"
   ]
  },
  {
   "cell_type": "markdown",
   "id": "c55cc406",
   "metadata": {},
   "source": [
    "Smoothed CTR T-test tells us that there is no reason for denying the null hypothesis about equality average meaning."
   ]
  },
  {
   "cell_type": "code",
   "execution_count": 28,
   "id": "68ff46c4",
   "metadata": {},
   "outputs": [
    {
     "name": "stdout",
     "output_type": "stream",
     "text": [
      "We have reasons for denying the null hypothesis\n",
      "p-value: 8.103385180023362e-58\n"
     ]
    }
   ],
   "source": [
    "res = stats.mannwhitneyu(group_2_copy['smothed_ctr'], \n",
    "                group_1_copy['smothed_ctr'])\n",
    "conclusion_of_the_test(res[1])"
   ]
  },
  {
   "cell_type": "markdown",
   "id": "61f87818",
   "metadata": {},
   "source": [
    "But test Mann-Whitney has already seen the differences. "
   ]
  },
  {
   "cell_type": "markdown",
   "id": "1e7db550",
   "metadata": {},
   "source": [
    "<a id = 'bootstrap'></a>\n",
    "## Poisson bootstrap"
   ]
  },
  {
   "cell_type": "markdown",
   "id": "02eff8f0",
   "metadata": {},
   "source": [
    "We take a sample from group A. From the Poisson distribution, we generate “how many times this user got into the pseudo-sample”. It creates a column that reflects the \"weight\" of the user. We calculate the \"global CTR\" by pseudo-sample for AA:"
   ]
  },
  {
   "cell_type": "markdown",
   "id": "cdf35478",
   "metadata": {},
   "source": [
    "$$globalCTR_{i} = \\frac{sum(clicks_{i}*weights_{j})}{sum(views_{i}*weights_{j})}$$"
   ]
  },
  {
   "cell_type": "markdown",
   "id": "607020e0",
   "metadata": {},
   "source": [
    "We do the same for the sample from group B.\n",
    "\n",
    "We consider the difference between globalCTR_A - globalCTR_B and write down this difference. We repeat the procedure many times. So we're collecting in the distribution for the difference in global CTR."
   ]
  },
  {
   "cell_type": "code",
   "execution_count": 29,
   "id": "15950952",
   "metadata": {},
   "outputs": [],
   "source": [
    "def bootstrap(likes1, views1, likes2, views2, n_bootstrap=2000):\n",
    "\n",
    "    poisson_bootstraps1 = stats.poisson(1).rvs(\n",
    "        (n_bootstrap, len(likes1))).astype(np.int64)\n",
    "\n",
    "    poisson_bootstraps2 = stats.poisson(1).rvs(\n",
    "            (n_bootstrap, len(likes2))).astype(np.int64)\n",
    "    \n",
    "    globalCTR1 = (poisson_bootstraps1*likes1).sum(axis=1)/(poisson_bootstraps1*views1).sum(axis=1)\n",
    "    \n",
    "    globalCTR2 = (poisson_bootstraps2*likes2).sum(axis=1)/(poisson_bootstraps2*views2).sum(axis=1)\n",
    "\n",
    "    return globalCTR1, globalCTR2"
   ]
  },
  {
   "cell_type": "code",
   "execution_count": 30,
   "id": "2ea5bb95",
   "metadata": {},
   "outputs": [],
   "source": [
    "likes1 = ab_test[ab_test.exp_group == 1].likes.to_numpy()\n",
    "views1 = ab_test[ab_test.exp_group == 1].views.to_numpy()\n",
    "likes2 = ab_test[ab_test.exp_group == 2].likes.to_numpy()\n",
    "views2 = ab_test[ab_test.exp_group == 2].views.to_numpy()\n",
    "\n",
    "ctr1, ctr2 = bootstrap(likes1, views1, likes2, views2)"
   ]
  },
  {
   "cell_type": "code",
   "execution_count": 31,
   "id": "5533780a",
   "metadata": {},
   "outputs": [
    {
     "data": {
      "text/plain": [
       "<AxesSubplot:ylabel='Count'>"
      ]
     },
     "execution_count": 31,
     "metadata": {},
     "output_type": "execute_result"
    },
    {
     "data": {
      "image/png": "[encoded data removed]",
      "text/plain": [
       "<Figure size 432x288 with 1 Axes>"
      ]
     },
     "metadata": {
      "needs_background": "light"
     },
     "output_type": "display_data"
    }
   ],
   "source": [
    "sns.histplot(ctr1)\n",
    "sns.histplot(ctr2)"
   ]
  },
  {
   "cell_type": "code",
   "execution_count": 32,
   "id": "63515b7b",
   "metadata": {},
   "outputs": [
    {
     "name": "stdout",
     "output_type": "stream",
     "text": [
      "We have reasons for denying the null hypothesis\n",
      "p-value: 0.0\n"
     ]
    }
   ],
   "source": [
    "res = stats.ttest_ind(ctr1, ctr2, equal_var= False)\n",
    "conclusion_of_the_test(res[1])"
   ]
  },
  {
   "cell_type": "code",
   "execution_count": 33,
   "id": "d71c79e3",
   "metadata": {},
   "outputs": [
    {
     "data": {
      "text/plain": [
       "<AxesSubplot:ylabel='Count'>"
      ]
     },
     "execution_count": 33,
     "metadata": {},
     "output_type": "execute_result"
    },
    {
     "data": {
      "image/png": "[encoded data removed]",
      "text/plain": [
       "<Figure size 432x288 with 1 Axes>"
      ]
     },
     "metadata": {
      "needs_background": "light"
     },
     "output_type": "display_data"
    }
   ],
   "source": [
    "sns.histplot(ctr2 - ctr1)"
   ]
  },
  {
   "cell_type": "markdown",
   "id": "f18a6768",
   "metadata": {},
   "source": [
    "As we can see, the difference doesn't intersect 0. Consequently, the CTR of the control group is bigger than the CTR of the test group. And that means the influence of our new algorithm is present but on the negative side.   "
   ]
  },
  {
   "cell_type": "markdown",
   "id": "33e2a731",
   "metadata": {},
   "source": [
    "<a id ='bucket'></a>\n",
    "## Bucket testing "
   ]
  },
  {
   "cell_type": "markdown",
   "id": "ce3a9070",
   "metadata": {},
   "source": [
    "When we divide our initial sample into a certain number of buckets, and calculate, for example, the average in each bucket, we get a sample of 50 values of the average for these “meta users” at the output. It's like we made a bootstrap, but not by generating a pseudo-sample, but by biting off a piece from the existing one in the right way."
   ]
  },
  {
   "cell_type": "code",
   "execution_count": 34,
   "id": "398ae85e",
   "metadata": {},
   "outputs": [],
   "source": [
    "query_bucket = \"\"\"\n",
    "\n",
    "SELECT exp_group, bucket,\n",
    "    sum(likes)/sum(views) as bucket_ctr\n",
    "    \n",
    "FROM (SELECT exp_group, \n",
    "        xxHash64(user_id)%50 as bucket,\n",
    "        user_id,\n",
    "        sum(action = 'like') as likes,\n",
    "        sum(action = 'view') as views,\n",
    "        likes/views as ctr\n",
    "    FROM {db}.feed_actions \n",
    "    WHERE toDate(time) >= '2022-06-13' and toDate(time) <= '2022-06-19'  and exp_group in (2,1)\n",
    "    GROUP BY exp_group, bucket, user_id)\n",
    "GROUP BY exp_group, bucket\n",
    "\"\"\""
   ]
  },
  {
   "cell_type": "code",
   "execution_count": 35,
   "id": "c1cc720e",
   "metadata": {},
   "outputs": [
    {
     "data": {
      "text/html": [
       "<div>\n",
       "<style scoped>\n",
       "    .dataframe tbody tr th:only-of-type {\n",
       "        vertical-align: middle;\n",
       "    }\n",
       "\n",
       "    .dataframe tbody tr th {\n",
       "        vertical-align: top;\n",
       "    }\n",
       "\n",
       "    .dataframe thead th {\n",
       "        text-align: right;\n",
       "    }\n",
       "</style>\n",
       "<table border=\"1\" class=\"dataframe\">\n",
       "  <thead>\n",
       "    <tr style=\"text-align: right;\">\n",
       "      <th></th>\n",
       "      <th>exp_group</th>\n",
       "      <th>bucket</th>\n",
       "      <th>bucket_ctr</th>\n",
       "    </tr>\n",
       "  </thead>\n",
       "  <tbody>\n",
       "    <tr>\n",
       "      <th>0</th>\n",
       "      <td>1</td>\n",
       "      <td>0</td>\n",
       "      <td>0.196481</td>\n",
       "    </tr>\n",
       "    <tr>\n",
       "      <th>1</th>\n",
       "      <td>2</td>\n",
       "      <td>0</td>\n",
       "      <td>0.194262</td>\n",
       "    </tr>\n",
       "    <tr>\n",
       "      <th>2</th>\n",
       "      <td>1</td>\n",
       "      <td>1</td>\n",
       "      <td>0.211887</td>\n",
       "    </tr>\n",
       "    <tr>\n",
       "      <th>3</th>\n",
       "      <td>2</td>\n",
       "      <td>1</td>\n",
       "      <td>0.215328</td>\n",
       "    </tr>\n",
       "    <tr>\n",
       "      <th>4</th>\n",
       "      <td>1</td>\n",
       "      <td>2</td>\n",
       "      <td>0.206271</td>\n",
       "    </tr>\n",
       "    <tr>\n",
       "      <th>...</th>\n",
       "      <td>...</td>\n",
       "      <td>...</td>\n",
       "      <td>...</td>\n",
       "    </tr>\n",
       "    <tr>\n",
       "      <th>95</th>\n",
       "      <td>2</td>\n",
       "      <td>47</td>\n",
       "      <td>0.195880</td>\n",
       "    </tr>\n",
       "    <tr>\n",
       "      <th>96</th>\n",
       "      <td>1</td>\n",
       "      <td>48</td>\n",
       "      <td>0.212787</td>\n",
       "    </tr>\n",
       "    <tr>\n",
       "      <th>97</th>\n",
       "      <td>2</td>\n",
       "      <td>48</td>\n",
       "      <td>0.194502</td>\n",
       "    </tr>\n",
       "    <tr>\n",
       "      <th>98</th>\n",
       "      <td>1</td>\n",
       "      <td>49</td>\n",
       "      <td>0.203169</td>\n",
       "    </tr>\n",
       "    <tr>\n",
       "      <th>99</th>\n",
       "      <td>2</td>\n",
       "      <td>49</td>\n",
       "      <td>0.196539</td>\n",
       "    </tr>\n",
       "  </tbody>\n",
       "</table>\n",
       "<p>100 rows × 3 columns</p>\n",
       "</div>"
      ],
      "text/plain": [
       "    exp_group  bucket  bucket_ctr\n",
       "0           1       0    0.196481\n",
       "1           2       0    0.194262\n",
       "2           1       1    0.211887\n",
       "3           2       1    0.215328\n",
       "4           1       2    0.206271\n",
       "..        ...     ...         ...\n",
       "95          2      47    0.195880\n",
       "96          1      48    0.212787\n",
       "97          2      48    0.194502\n",
       "98          1      49    0.203169\n",
       "99          2      49    0.196539\n",
       "\n",
       "[100 rows x 3 columns]"
      ]
     },
     "execution_count": 35,
     "metadata": {},
     "output_type": "execute_result"
    }
   ],
   "source": [
    "bucket = run_query(query_bucket)\n",
    "bucket"
   ]
  },
  {
   "cell_type": "code",
   "execution_count": 36,
   "id": "75469c59",
   "metadata": {},
   "outputs": [
    {
     "data": {
      "text/plain": [
       "(0.20812170724336013, 0.19825944666552928)"
      ]
     },
     "execution_count": 36,
     "metadata": {},
     "output_type": "execute_result"
    }
   ],
   "source": [
    "bucket[bucket.exp_group == 1].bucket_ctr.mean(), bucket[bucket.exp_group == 2].bucket_ctr.mean()"
   ]
  },
  {
   "cell_type": "code",
   "execution_count": 37,
   "id": "d9948fed",
   "metadata": {},
   "outputs": [
    {
     "name": "stdout",
     "output_type": "stream",
     "text": [
      "We have reasons for denying the null hypothesis\n",
      "p-value: 3.4455951649945907e-07\n"
     ]
    }
   ],
   "source": [
    "res = stats.ttest_ind(bucket[bucket.exp_group == 1].bucket_ctr, \n",
    "                   bucket[bucket.exp_group == 2].bucket_ctr, \n",
    "                   equal_var = False)\n",
    "conclusion_of_the_test(res[1])"
   ]
  },
  {
   "cell_type": "code",
   "execution_count": 38,
   "id": "9e32f426",
   "metadata": {},
   "outputs": [
    {
     "name": "stdout",
     "output_type": "stream",
     "text": [
      "We have reasons for denying the null hypothesis\n",
      "p-value: 3.4455951649945907e-07\n"
     ]
    }
   ],
   "source": [
    "stats.mannwhitneyu(bucket[bucket.exp_group == 1].bucket_ctr, \n",
    "                   bucket[bucket.exp_group == 2].bucket_ctr, \n",
    "                   alternative = 'two-sided')\n",
    "conclusion_of_the_test(res[1])"
   ]
  },
  {
   "cell_type": "markdown",
   "id": "4cdc0c3a",
   "metadata": {},
   "source": [
    "The differences in the T-test and Mann-Whitney test are present. Consequently, the new algorithm influenced users' CTR."
   ]
  },
  {
   "cell_type": "markdown",
   "id": "468311fa",
   "metadata": {},
   "source": [
    "<a id = 'lin'></a>\n",
    "## Linearization"
   ]
  },
  {
   "cell_type": "markdown",
   "id": "563aa615",
   "metadata": {},
   "source": [
    "<b>Idea:</b> Instead of using users' CTR, we can create a new metric and analyze it. BUT here we have a guarantee that if the test shows differences in our metric, that means our initial  metric also was different."
   ]
  },
  {
   "cell_type": "markdown",
   "id": "b3e24ec5",
   "metadata": {},
   "source": [
    "We calculate the total CTR in the control group: $𝐶𝑇𝑅𝑐𝑜𝑛𝑡𝑟𝑜𝑙=𝑠𝑢𝑚(𝑙𝑖𝑘𝑒𝑠)/𝑠𝑢𝑚(𝑣𝑖𝑒𝑤𝑠)$\n",
    "\n",
    "Then calculate the user metric: $\\text{𝑙𝑖𝑛𝑒𝑎𝑟𝑖𝑧𝑒𝑑_𝑙𝑖𝑘𝑒𝑠}=𝑙𝑖𝑘𝑒𝑠−𝐶𝑇𝑅𝑐𝑜𝑛𝑡𝑟𝑜𝑙∗𝑣𝑖𝑒𝑤𝑠$\n",
    "\n",
    "After it, we compare the differences in the groups by the metric."
   ]
  },
  {
   "cell_type": "code",
   "execution_count": 39,
   "id": "fe67cd23",
   "metadata": {},
   "outputs": [
    {
     "data": {
      "text/html": [
       "<div>\n",
       "<style scoped>\n",
       "    .dataframe tbody tr th:only-of-type {\n",
       "        vertical-align: middle;\n",
       "    }\n",
       "\n",
       "    .dataframe tbody tr th {\n",
       "        vertical-align: top;\n",
       "    }\n",
       "\n",
       "    .dataframe thead th {\n",
       "        text-align: right;\n",
       "    }\n",
       "</style>\n",
       "<table border=\"1\" class=\"dataframe\">\n",
       "  <thead>\n",
       "    <tr style=\"text-align: right;\">\n",
       "      <th></th>\n",
       "      <th>user_id</th>\n",
       "      <th>likes</th>\n",
       "      <th>views</th>\n",
       "      <th>ctr</th>\n",
       "      <th>exp_group</th>\n",
       "    </tr>\n",
       "  </thead>\n",
       "  <tbody>\n",
       "    <tr>\n",
       "      <th>0</th>\n",
       "      <td>115383</td>\n",
       "      <td>9</td>\n",
       "      <td>30</td>\n",
       "      <td>0.300000</td>\n",
       "      <td>3</td>\n",
       "    </tr>\n",
       "    <tr>\n",
       "      <th>1</th>\n",
       "      <td>18392</td>\n",
       "      <td>7</td>\n",
       "      <td>32</td>\n",
       "      <td>0.218750</td>\n",
       "      <td>1</td>\n",
       "    </tr>\n",
       "    <tr>\n",
       "      <th>2</th>\n",
       "      <td>123580</td>\n",
       "      <td>13</td>\n",
       "      <td>48</td>\n",
       "      <td>0.270833</td>\n",
       "      <td>3</td>\n",
       "    </tr>\n",
       "    <tr>\n",
       "      <th>3</th>\n",
       "      <td>131473</td>\n",
       "      <td>14</td>\n",
       "      <td>134</td>\n",
       "      <td>0.104478</td>\n",
       "      <td>2</td>\n",
       "    </tr>\n",
       "    <tr>\n",
       "      <th>4</th>\n",
       "      <td>107323</td>\n",
       "      <td>5</td>\n",
       "      <td>31</td>\n",
       "      <td>0.161290</td>\n",
       "      <td>4</td>\n",
       "    </tr>\n",
       "    <tr>\n",
       "      <th>...</th>\n",
       "      <td>...</td>\n",
       "      <td>...</td>\n",
       "      <td>...</td>\n",
       "      <td>...</td>\n",
       "      <td>...</td>\n",
       "    </tr>\n",
       "    <tr>\n",
       "      <th>50144</th>\n",
       "      <td>27030</td>\n",
       "      <td>8</td>\n",
       "      <td>39</td>\n",
       "      <td>0.205128</td>\n",
       "      <td>0</td>\n",
       "    </tr>\n",
       "    <tr>\n",
       "      <th>50145</th>\n",
       "      <td>122758</td>\n",
       "      <td>30</td>\n",
       "      <td>198</td>\n",
       "      <td>0.151515</td>\n",
       "      <td>3</td>\n",
       "    </tr>\n",
       "    <tr>\n",
       "      <th>50146</th>\n",
       "      <td>132567</td>\n",
       "      <td>45</td>\n",
       "      <td>296</td>\n",
       "      <td>0.152027</td>\n",
       "      <td>1</td>\n",
       "    </tr>\n",
       "    <tr>\n",
       "      <th>50147</th>\n",
       "      <td>122190</td>\n",
       "      <td>19</td>\n",
       "      <td>65</td>\n",
       "      <td>0.292308</td>\n",
       "      <td>3</td>\n",
       "    </tr>\n",
       "    <tr>\n",
       "      <th>50148</th>\n",
       "      <td>17310</td>\n",
       "      <td>9</td>\n",
       "      <td>82</td>\n",
       "      <td>0.109756</td>\n",
       "      <td>2</td>\n",
       "    </tr>\n",
       "  </tbody>\n",
       "</table>\n",
       "<p>50149 rows × 5 columns</p>\n",
       "</div>"
      ],
      "text/plain": [
       "       user_id  likes  views       ctr  exp_group\n",
       "0       115383      9     30  0.300000          3\n",
       "1        18392      7     32  0.218750          1\n",
       "2       123580     13     48  0.270833          3\n",
       "3       131473     14    134  0.104478          2\n",
       "4       107323      5     31  0.161290          4\n",
       "...        ...    ...    ...       ...        ...\n",
       "50144    27030      8     39  0.205128          0\n",
       "50145   122758     30    198  0.151515          3\n",
       "50146   132567     45    296  0.152027          1\n",
       "50147   122190     19     65  0.292308          3\n",
       "50148    17310      9     82  0.109756          2\n",
       "\n",
       "[50149 rows x 5 columns]"
      ]
     },
     "execution_count": 39,
     "metadata": {},
     "output_type": "execute_result"
    }
   ],
   "source": [
    "q = \"\"\"\n",
    "SELECT user_id,\n",
    "        countIf(action='like') as likes,\n",
    "        countIf(action='view') as views,\n",
    "        likes/views as ctr,\n",
    "        exp_group\n",
    "FROM {db}.feed_actions \n",
    "WHERE toDate(time) >= '2022-06-13' and toDate(time) <= '2022-06-19'  \n",
    "GROUP BY user_id, exp_group\n",
    "\"\"\"\n",
    "df = run_query(q)\n",
    "df"
   ]
  },
  {
   "cell_type": "code",
   "execution_count": 40,
   "id": "e2047869",
   "metadata": {},
   "outputs": [
    {
     "data": {
      "text/plain": [
       "0.20823612262916305"
      ]
     },
     "execution_count": 40,
     "metadata": {},
     "output_type": "execute_result"
    }
   ],
   "source": [
    "control_CTR = df[df['exp_group']==0].likes.sum() / df[df['exp_group']==0].views.sum()\n",
    "control_CTR"
   ]
  },
  {
   "cell_type": "code",
   "execution_count": 41,
   "id": "6c654024",
   "metadata": {},
   "outputs": [
    {
     "data": {
      "text/html": [
       "<div>\n",
       "<style scoped>\n",
       "    .dataframe tbody tr th:only-of-type {\n",
       "        vertical-align: middle;\n",
       "    }\n",
       "\n",
       "    .dataframe tbody tr th {\n",
       "        vertical-align: top;\n",
       "    }\n",
       "\n",
       "    .dataframe thead th {\n",
       "        text-align: right;\n",
       "    }\n",
       "</style>\n",
       "<table border=\"1\" class=\"dataframe\">\n",
       "  <thead>\n",
       "    <tr style=\"text-align: right;\">\n",
       "      <th></th>\n",
       "      <th>user_id</th>\n",
       "      <th>likes</th>\n",
       "      <th>views</th>\n",
       "      <th>ctr</th>\n",
       "      <th>exp_group</th>\n",
       "      <th>linearized_likes</th>\n",
       "    </tr>\n",
       "  </thead>\n",
       "  <tbody>\n",
       "    <tr>\n",
       "      <th>0</th>\n",
       "      <td>115383</td>\n",
       "      <td>9</td>\n",
       "      <td>30</td>\n",
       "      <td>0.300000</td>\n",
       "      <td>3</td>\n",
       "      <td>2.752916</td>\n",
       "    </tr>\n",
       "    <tr>\n",
       "      <th>1</th>\n",
       "      <td>18392</td>\n",
       "      <td>7</td>\n",
       "      <td>32</td>\n",
       "      <td>0.218750</td>\n",
       "      <td>1</td>\n",
       "      <td>0.336444</td>\n",
       "    </tr>\n",
       "    <tr>\n",
       "      <th>2</th>\n",
       "      <td>123580</td>\n",
       "      <td>13</td>\n",
       "      <td>48</td>\n",
       "      <td>0.270833</td>\n",
       "      <td>3</td>\n",
       "      <td>3.004666</td>\n",
       "    </tr>\n",
       "    <tr>\n",
       "      <th>3</th>\n",
       "      <td>131473</td>\n",
       "      <td>14</td>\n",
       "      <td>134</td>\n",
       "      <td>0.104478</td>\n",
       "      <td>2</td>\n",
       "      <td>-13.903640</td>\n",
       "    </tr>\n",
       "    <tr>\n",
       "      <th>4</th>\n",
       "      <td>107323</td>\n",
       "      <td>5</td>\n",
       "      <td>31</td>\n",
       "      <td>0.161290</td>\n",
       "      <td>4</td>\n",
       "      <td>-1.455320</td>\n",
       "    </tr>\n",
       "  </tbody>\n",
       "</table>\n",
       "</div>"
      ],
      "text/plain": [
       "   user_id  likes  views       ctr  exp_group  linearized_likes\n",
       "0   115383      9     30  0.300000          3          2.752916\n",
       "1    18392      7     32  0.218750          1          0.336444\n",
       "2   123580     13     48  0.270833          3          3.004666\n",
       "3   131473     14    134  0.104478          2        -13.903640\n",
       "4   107323      5     31  0.161290          4         -1.455320"
      ]
     },
     "execution_count": 41,
     "metadata": {},
     "output_type": "execute_result"
    }
   ],
   "source": [
    "df['linearized_likes'] = df.likes - control_CTR * df.views\n",
    "df.head()"
   ]
  },
  {
   "cell_type": "code",
   "execution_count": 42,
   "id": "5c2353e5",
   "metadata": {},
   "outputs": [],
   "source": [
    "group_0 = df[df['exp_group'] == 0]\n",
    "group_1 = df[df['exp_group'] == 1]\n",
    "group_2 = df[df['exp_group'] == 2]\n",
    "group_3 = df[df['exp_group'] == 3]"
   ]
  },
  {
   "cell_type": "code",
   "execution_count": 43,
   "id": "414b117d",
   "metadata": {},
   "outputs": [
    {
     "name": "stdout",
     "output_type": "stream",
     "text": [
      "We have reasons for denying the null hypothesis\n",
      "p-value: 1.055849414662529e-43\n"
     ]
    }
   ],
   "source": [
    "# t-test raw data CTR \n",
    "res = stats.ttest_ind(group_0.ctr, group_3.ctr, equal_var = False)\n",
    "conclusion_of_the_test(res[1])"
   ]
  },
  {
   "cell_type": "code",
   "execution_count": 44,
   "id": "45fefb80",
   "metadata": {},
   "outputs": [
    {
     "name": "stdout",
     "output_type": "stream",
     "text": [
      "We have reasons for denying the null hypothesis\n",
      "p-value: 5.4914249479690016e-52\n"
     ]
    }
   ],
   "source": [
    "# t-test lin.likes\n",
    "res =stats.ttest_ind(group_0.linearized_likes, group_3.linearized_likes, equal_var = False)\n",
    "conclusion_of_the_test(res[1])"
   ]
  },
  {
   "cell_type": "markdown",
   "id": "e186d256",
   "metadata": {},
   "source": [
    "T-test \"sees\" the differences in average meanings of new metrics of linearized likes. It means we have enough reasons to reject the null hypothesis about equality of average values."
   ]
  },
  {
   "cell_type": "code",
   "execution_count": 45,
   "id": "1a24705d",
   "metadata": {},
   "outputs": [
    {
     "name": "stdout",
     "output_type": "stream",
     "text": [
      "No reasons for denying the null hypothesis\n",
      "p-value: 0.4780623130874935\n"
     ]
    }
   ],
   "source": [
    "# t-test raw data CTR\n",
    "res = stats.ttest_ind(group_1.ctr, group_2.ctr, equal_var = False)\n",
    "conclusion_of_the_test(res[1])"
   ]
  },
  {
   "cell_type": "code",
   "execution_count": 46,
   "id": "90386bcc",
   "metadata": {},
   "outputs": [
    {
     "name": "stdout",
     "output_type": "stream",
     "text": [
      "We have reasons for denying the null hypothesis\n",
      "p-value: 9.544973454280379e-10\n"
     ]
    }
   ],
   "source": [
    "# t-test lin.likes\n",
    "res = stats.ttest_ind(group_1.linearized_likes, group_2.linearized_likes, equal_var = False)\n",
    "conclusion_of_the_test(res[1])"
   ]
  },
  {
   "cell_type": "markdown",
   "id": "752bfc1b",
   "metadata": {},
   "source": [
    "In the second case T-test also tells us about enough reasons to reject the null hypothesis, unlike the raw CTR test.\n",
    "\n",
    "In both cases, the p-value has decreased and it confirms the statement about a more sensitive metric."
   ]
  },
  {
   "cell_type": "markdown",
   "id": "e1cd7965",
   "metadata": {},
   "source": [
    "<a id = 'conc'></a>\n",
    "## Conclusion\n",
    "\n",
    "Most of all statistical tests see the difference between the test and the control groups. The Exception is a t-test on raw data and in the smoothed CTR. It could be connected with the kind of CTR distribution in the test group. After implement of the new algorithm, the distribution became bimodal. Perhaps, it is connected with the character of the algorithm influence: someone likes seeing new posts, and someone dislikes, and that's why the clickability changed in this way."
   ]
  }
 ],
 "metadata": {
  "kernelspec": {
   "display_name": "Python 3 (ipykernel)",
   "language": "python",
   "name": "python3"
  },
  "language_info": {
   "codemirror_mode": {
    "name": "ipython",
    "version": 3
   },
   "file_extension": ".py",
   "mimetype": "text/x-python",
   "name": "python",
   "nbconvert_exporter": "python",
   "pygments_lexer": "ipython3",
   "version": "3.9.7"
  }
 },
 "nbformat": 4,
 "nbformat_minor": 5
}
